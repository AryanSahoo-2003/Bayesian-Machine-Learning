{
 "cells": [
  {
   "cell_type": "markdown",
   "id": "1746c1c9",
   "metadata": {},
   "source": [
    "# Bayesian Machine Learning for Health Data\n"
   ]
  },
  {
   "cell_type": "markdown",
   "id": "01a74df0",
   "metadata": {},
   "source": [
    "### Task 5 :- Summarize the following paper within 200 words:\n",
    "https://arxiv.org/pdf/1906.08158.pdf"
   ]
  },
  {
   "cell_type": "markdown",
   "id": "db8f1b56",
   "metadata": {},
   "source": [
    "#### The paper \"Adversarial Examples that Fool both Human and Computer Vision\" examines how adversarial examples can deceive both human and machine vision systems. The authors generated adversarial examples using the InceptionV3 model and conducted an experiment where human participants were asked to classify pairs of original and adversarial images. The study found that adversarial examples can be effective at deceiving both humans and machines, especially those that are similar in appearance to the original image but with small perturbations that are difficult to detect.\n",
    "\n",
    "#### The authors used two types of adversarial attacks, namely the Fast Gradient Sign Method (FGSM) and the Carlini and Wagner (C&W) attack, to generate these examples. The FGSM attack involves adding small perturbations to each pixel of the original image, while the C&W attack uses an optimization algorithm to find the perturbation that maximizes the distance between the original image and the adversarial example while ensuring that the adversarial example is misclassified by the model.\n",
    "\n",
    "###### The paper highlights the need for developing robust machine learning models that can withstand adversarial attacks and the limitations of both human and machine perception. The study also raises important questions about the nature of human perception and the effectiveness of machine learning models."
   ]
  },
  {
   "cell_type": "code",
   "execution_count": null,
   "id": "2da77dce",
   "metadata": {},
   "outputs": [],
   "source": []
  }
 ],
 "metadata": {
  "kernelspec": {
   "display_name": "Python 3 (ipykernel)",
   "language": "python",
   "name": "python3"
  },
  "language_info": {
   "codemirror_mode": {
    "name": "ipython",
    "version": 3
   },
   "file_extension": ".py",
   "mimetype": "text/x-python",
   "name": "python",
   "nbconvert_exporter": "python",
   "pygments_lexer": "ipython3",
   "version": "3.9.13"
  }
 },
 "nbformat": 4,
 "nbformat_minor": 5
}
